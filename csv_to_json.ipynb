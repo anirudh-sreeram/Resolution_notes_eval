{
 "cells": [
  {
   "cell_type": "code",
   "execution_count": 1,
   "metadata": {},
   "outputs": [],
   "source": [
    "import pandas as pd\n",
    "import json"
   ]
  },
  {
   "cell_type": "code",
   "execution_count": 5,
   "metadata": {},
   "outputs": [
    {
     "name": "stdout",
     "output_type": "stream",
     "text": [
      "Index(['Index', 'task_id', 'Case', 'NOW LLM Resolution Notes', 'Reviewer',\n",
      "       'Resolution Notes is Perfect\\n(Yes/No)',\n",
      "       'Missed Important Details\\n(1/2/3)', 'Had Made-up Details\\n(1/2/3)',\n",
      "       'Mixed up who said what\\n(1/2/3)',\n",
      "       'Had too much unnecessary info\\n(1/2/3)',\n",
      "       'Has details in wrong sections\\n(1/2/3)', 'Golden Resolution Notes',\n",
      "       'Reviewer's notes', 'Linguist Comments', 'Linguist', 'Unnamed: 15'],\n",
      "      dtype='object')\n",
      "Index(['Index', 'Incident Number', 'Incident Data',\n",
      "       'NOW LLM Generated Resolution Notes', 'Reviewer',\n",
      "       'Resolution Notes is Perfect\\n(Yes/No)',\n",
      "       'Missed Important Details\\n(1/2/3)', 'Had Made-up Details\\n(1/2/3)',\n",
      "       'Mixed up who said what\\n(1/2/3)',\n",
      "       'Had too much unnecessary info\\n(1/2/3)', 'Golden Resolution Notes',\n",
      "       'Reviewer's notes', 'Linguist Comments', 'Linguist'],\n",
      "      dtype='object')\n",
      "Index(['Index', 'task_id', 'state', 'Case Data',\n",
      "       'NOW LLM Generated Resolution Notes', 'Reviewer',\n",
      "       'Resolution Notes is Perfect\\n(Yes/No)',\n",
      "       'Missed Important Details\\n(1/2/3)', 'Had Made-up Details\\n(1/2/3)',\n",
      "       'Mixed up who said what\\n(1/2/3)',\n",
      "       'Had too much unnecessary info\\n(1/2/3)', 'Golden Resolution Notes',\n",
      "       'Reviewer's notes', 'Linguist Comments', 'Linguist'],\n",
      "      dtype='object')\n"
     ]
    }
   ],
   "source": [
    "df_hrsd = pd.read_excel('data/HRSD Resolution Notes Evaluation Sept 6th.xlsx', sheet_name='Sheet1')\n",
    "df_itsm = pd.read_excel('data/ITSM Resolution Notes Evaluation Sept 7th.xlsx', sheet_name='Sheet1')\n",
    "df_csm = pd.read_excel('data/CSM Resolution Notes Evaluation Sept 7th.xlsx', sheet_name='Sheet1')\n",
    "print(df_hrsd.columns)\n",
    "print(df_itsm.columns)\n",
    "print(df_csm.columns)"
   ]
  },
  {
   "cell_type": "code",
   "execution_count": 11,
   "metadata": {},
   "outputs": [],
   "source": [
    "output_data = []\n",
    "id = 0\n",
    "for index, row in df_csm.iterrows():\n",
    "    curr_output = {}\n",
    "    curr_output['inputs_pretokenized'] = row['Case Data']\n",
    "    if pd.isna(row['Golden Resolution Notes']):\n",
    "        curr_output['targets_pretokenized'] = \"\"\n",
    "    else:\n",
    "        curr_output['targets_pretokenized'] = row['Golden Resolution Notes']\n",
    "    curr_output['id'] = str(id)\n",
    "    curr_output['bu'] = 'csm'\n",
    "    output_data.append(curr_output)\n",
    "    id += 1\n",
    "for index, row in df_itsm.iterrows():\n",
    "    curr_output = {}\n",
    "    curr_output['inputs_pretokenized'] = row['Incident Data']\n",
    "    if pd.isna(row['Golden Resolution Notes']):\n",
    "        curr_output['targets_pretokenized'] = \"\"\n",
    "    else:\n",
    "        curr_output['targets_pretokenized'] = row['Golden Resolution Notes']\n",
    "    curr_output['id'] = str(id)\n",
    "    curr_output['bu'] = 'itsm'\n",
    "    output_data.append(curr_output)\n",
    "    id += 1\n",
    "for index, row in df_hrsd.iterrows():\n",
    "    curr_output = {}\n",
    "    curr_output['inputs_pretokenized'] = row['Case']\n",
    "    if pd.isna(row['Golden Resolution Notes']):\n",
    "        curr_output['targets_pretokenized'] = \"\"\n",
    "    else:\n",
    "        curr_output['targets_pretokenized'] = row['Golden Resolution Notes']\n",
    "    curr_output['id'] = str(id)\n",
    "    curr_output['bu'] = 'hrsd'\n",
    "    output_data.append(curr_output)\n",
    "    id += 1\n",
    "with open('data/bu_resolution_notes_eval.json', 'w') as f:\n",
    "    json.dump(output_data, f, indent=4)"
   ]
  },
  {
   "cell_type": "code",
   "execution_count": 12,
   "metadata": {},
   "outputs": [],
   "source": [
    "with open('data/bu_resolution_notes_eval.json', 'r') as f:\n",
    "    data = json.load(f)\n",
    "for sample in data:\n",
    "    sample['inputs_pretokenized'] = sample['inputs_pretokenized'].split('<|end|>\\n<|user|>')[0].replace('<|end|>', '')\n",
    "with open('data/bu_resolution_notes_eval.json', 'w') as f:\n",
    "    json.dump(data, f, indent=4)"
   ]
  },
  {
   "cell_type": "code",
   "execution_count": null,
   "metadata": {},
   "outputs": [],
   "source": [
    "with open('data/bu_resolution_notes_eval.json', 'r') as f:\n",
    "    data = json.load(f)\n",
    "cleaned_data = []\n",
    "for sample in data:\n",
    "    if sample['targets_pretokenized'] == '':\n",
    "        continue\n",
    "    else:\n",
    "        cleaned_data.append(sample)\n",
    "with open('data/filtered_bu_resolution_notes_eval.json', 'w') as f:\n",
    "    json.dump(cleaned_data, f, indent=4)"
   ]
  },
  {
   "cell_type": "code",
   "execution_count": 10,
   "metadata": {},
   "outputs": [
    {
     "name": "stdout",
     "output_type": "stream",
     "text": [
      "Prompt P1 has 53 samples with precision >= 0.5\n",
      "Prompt P2 has 52 samples with precision >= 0.5\n",
      "Prompt P3 has 35 samples with precision >= 0.5\n",
      "Prompt P4 has 47 samples with precision >= 0.5\n",
      "Prompt P5 has 48 samples with precision >= 0.5\n"
     ]
    }
   ],
   "source": [
    "summac_precision_threshold = 0.5\n",
    "for prompt_index in ['P1', 'P2', 'P3', 'P4', 'P5']:\n",
    "    outputs = json.load(open('OUTPUTS/9_5_2023/inputs_{}_outputs.json'.format(prompt_index), 'r'))\n",
    "    count = 0\n",
    "    for sample in outputs:\n",
    "        if sample['summac precision'] >= summac_precision_threshold:\n",
    "            count += 1\n",
    "    print('Prompt {} has {} samples with precision >= {}'.format(prompt_index, count, summac_precision_threshold))"
   ]
  },
  {
   "cell_type": "code",
   "execution_count": null,
   "metadata": {},
   "outputs": [],
   "source": []
  }
 ],
 "metadata": {
  "kernelspec": {
   "display_name": "infer1",
   "language": "python",
   "name": "python3"
  },
  "language_info": {
   "codemirror_mode": {
    "name": "ipython",
    "version": 3
   },
   "file_extension": ".py",
   "mimetype": "text/x-python",
   "name": "python",
   "nbconvert_exporter": "python",
   "pygments_lexer": "ipython3",
   "version": "3.9.16"
  },
  "orig_nbformat": 4
 },
 "nbformat": 4,
 "nbformat_minor": 2
}
