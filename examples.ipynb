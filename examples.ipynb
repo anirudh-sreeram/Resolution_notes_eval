{
 "cells": [
  {
   "cell_type": "code",
   "execution_count": 1,
   "metadata": {},
   "outputs": [],
   "source": [
    "import pandas as pd\n",
    "import json"
   ]
  },
  {
   "cell_type": "code",
   "execution_count": 2,
   "metadata": {},
   "outputs": [],
   "source": [
    "df_CSM = pd.read_excel('data/CSM Resolution Notes Evaluation Sept 7th.xlsx')\n",
    "df_HRSD = pd.read_excel('data/HRSD Resolution Notes Evaluation Sept 6th.xlsx')\n",
    "df_ITSM = pd.read_excel('data/ITSM Resolution Notes Evaluation Sept 7th.xlsx')"
   ]
  },
  {
   "cell_type": "code",
   "execution_count": 3,
   "metadata": {},
   "outputs": [
    {
     "data": {
      "text/plain": [
       "Index(['Index', 'task_id', 'state', 'Case Data',\n",
       "       'NOW LLM Generated Resolution Notes', 'Reviewer',\n",
       "       'Resolution Notes is Perfect\\n(Yes/No)',\n",
       "       'Missed Important Details\\n(1/2/3)', 'Had Made-up Details\\n(1/2/3)',\n",
       "       'Mixed up who said what\\n(1/2/3)',\n",
       "       'Had too much unnecessary info\\n(1/2/3)', 'Golden Resolution Notes',\n",
       "       'Reviewer's notes', 'Linguist Comments', 'Linguist'],\n",
       "      dtype='object')"
      ]
     },
     "execution_count": 3,
     "metadata": {},
     "output_type": "execute_result"
    }
   ],
   "source": [
    "for context in df_CSM['Case Data']:\n",
    "    "
   ]
  },
  {
   "cell_type": "code",
   "execution_count": null,
   "metadata": {},
   "outputs": [],
   "source": []
  }
 ],
 "metadata": {
  "kernelspec": {
   "display_name": "Python 3",
   "language": "python",
   "name": "python3"
  },
  "language_info": {
   "codemirror_mode": {
    "name": "ipython",
    "version": 3
   },
   "file_extension": ".py",
   "mimetype": "text/x-python",
   "name": "python",
   "nbconvert_exporter": "python",
   "pygments_lexer": "ipython3",
   "version": "3.9.16"
  },
  "orig_nbformat": 4
 },
 "nbformat": 4,
 "nbformat_minor": 2
}
